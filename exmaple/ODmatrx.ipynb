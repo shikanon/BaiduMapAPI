{
 "cells": [
  {
   "cell_type": "markdown",
   "metadata": {},
   "source": [
    "这是一个计算origins到targets的OD矩阵的exmaple，同时这里会将解析出来的数据存在本地"
   ]
  },
  {
   "cell_type": "code",
   "execution_count": 1,
   "metadata": {},
   "outputs": [],
   "source": [
    "from BaiduMapAPI import dataset\n",
    "\n",
    "ch_street_data_2017 = dataset.getAllChStreetCoord(2017)\n",
    "gd_data_2017 = ch_street_data_2017[ch_street_data_2017[\"省\"]==\"广东省\"]"
   ]
  },
  {
   "cell_type": "code",
   "execution_count": 3,
   "metadata": {},
   "outputs": [],
   "source": [
    "origins_data = gd_data_2017[:5]"
   ]
  },
  {
   "cell_type": "code",
   "execution_count": 9,
   "metadata": {},
   "outputs": [],
   "source": [
    "origins = list(zip(list(origins_data[\"lat\"]), list(origins_data[\"lng\"])))"
   ]
  },
  {
   "cell_type": "code",
   "execution_count": 1,
   "metadata": {},
   "outputs": [],
   "source": [
    "targets_name = {\"香港\":\"香港国际机场\", \"广州\": \"广州白云国际机场\", \"深圳\":\"深圳宝安国际机场\", \"珠海\":\"珠海金湾国际机场\",\n",
    "               \"澳门\":\"澳门国际机场\", \"佛山\":\"佛山沙堤机场\", \"惠州\":\"惠州平潭机场\"}"
   ]
  },
  {
   "cell_type": "code",
   "execution_count": 2,
   "metadata": {},
   "outputs": [],
   "source": [
    "from BaiduMapAPI.api import SearchPlace, MapDirection"
   ]
  },
  {
   "cell_type": "code",
   "execution_count": 3,
   "metadata": {},
   "outputs": [],
   "source": [
    "import os\n",
    "AK = os.environ[\"BaiduAK\"]\n",
    "SK = os.environ[\"BaiduSK\"]"
   ]
  },
  {
   "cell_type": "code",
   "execution_count": 13,
   "metadata": {},
   "outputs": [
    {
     "name": "stdout",
     "output_type": "stream",
     "text": [
      "fuzzy search region URL:  http://api.map.baidu.com/place/v2/suggestion?query=%E9%A6%99%E6%B8%AF%E5%9B%BD%E9%99%85%E6%9C%BA%E5%9C%BA&ak=DGDLNDPGFwpiRdmn31p9aEj7z5mnv4OR&timestamp=1552060474&output=json&region=%E9%A6%99%E6%B8%AF&city_limit=true&sn=6fe7a59517122fcc6181818df3f9543e\n"
     ]
    }
   ],
   "source": [
    "search = SearchPlace(AK, SK)\n",
    "c = search.fuzzySearchRegion(targets_name[0],region=\"香港\",output=\"json\")"
   ]
  },
  {
   "cell_type": "code",
   "execution_count": 8,
   "metadata": {},
   "outputs": [],
   "source": [
    "import json"
   ]
  },
  {
   "cell_type": "code",
   "execution_count": 14,
   "metadata": {},
   "outputs": [
    {
     "data": {
      "text/plain": [
       "{'status': 0,\n",
       " 'message': 'ok',\n",
       " 'result': [{'name': '香港国际机场',\n",
       "   'location': {'lat': 22.320181, 'lng': 113.945058},\n",
       "   'uid': '077429438d1788696040a971',\n",
       "   'province': '香港',\n",
       "   'city': '香港',\n",
       "   'district': '离岛区',\n",
       "   'business': '',\n",
       "   'cityid': '2912'},\n",
       "  {'name': '香港国际机场二号客运大楼',\n",
       "   'location': {'lat': 22.319129, 'lng': 113.949045},\n",
       "   'uid': '70f02cfe20927666a80dd8c8',\n",
       "   'province': '香港',\n",
       "   'city': '香港',\n",
       "   'district': '离岛区',\n",
       "   'business': '',\n",
       "   'cityid': '2912'},\n",
       "  {'name': '香港国际机场一号停车场',\n",
       "   'location': {'lat': 22.315056, 'lng': 113.947869},\n",
       "   'uid': '9a1599d746f798e550e5c5c1',\n",
       "   'province': '香港',\n",
       "   'city': '香港',\n",
       "   'district': '离岛区',\n",
       "   'business': '',\n",
       "   'cityid': '2912'},\n",
       "  {'name': '香港国际机场海运码头',\n",
       "   'location': {'lat': 22.319582, 'lng': 113.955078},\n",
       "   'uid': '2fea591556e2c864f4eafc8d',\n",
       "   'province': '香港',\n",
       "   'city': '香港',\n",
       "   'district': '离岛区',\n",
       "   'business': '',\n",
       "   'cityid': '2912'},\n",
       "  {'name': '伯爵专卖店-香港国际机场',\n",
       "   'location': {'lat': 22.318656, 'lng': 113.94728},\n",
       "   'uid': '09531fdcfeac0b5f1d389461',\n",
       "   'province': '香港',\n",
       "   'city': '香港',\n",
       "   'district': '离岛区',\n",
       "   'business': '',\n",
       "   'cityid': '2912'},\n",
       "  {'name': '香港国际机场西码头',\n",
       "   'location': {'lat': 22.306055, 'lng': 113.90938},\n",
       "   'uid': '432ee4e528cd251103ec01f3',\n",
       "   'province': '香港',\n",
       "   'city': '香港',\n",
       "   'district': '离岛区',\n",
       "   'business': '',\n",
       "   'cityid': '2912'},\n",
       "  {'name': '香港国际机场四号停车场',\n",
       "   'location': {'lat': 22.320612, 'lng': 113.945693},\n",
       "   'uid': '840ebb1f50e300ad2dfaa7e6',\n",
       "   'province': '香港',\n",
       "   'city': '香港',\n",
       "   'district': '离岛区',\n",
       "   'business': '',\n",
       "   'cityid': '2912'},\n",
       "  {'name': '奇华饼家 香港国际机场(禁区)',\n",
       "   'location': {'lat': 22.317621, 'lng': 113.945422},\n",
       "   'uid': '14ae271b15f096fb9eec2b42',\n",
       "   'province': '香港',\n",
       "   'city': '香港',\n",
       "   'district': '离岛区',\n",
       "   'business': '',\n",
       "   'cityid': '2912'},\n",
       "  {'name': '香港国际机场P4多层停车场',\n",
       "   'location': {'lat': 22.320734, 'lng': 113.945935},\n",
       "   'uid': 'a1ffc755f5cb2cfcc23644cf',\n",
       "   'province': '香港',\n",
       "   'city': '香港',\n",
       "   'district': '离岛区',\n",
       "   'business': '',\n",
       "   'cityid': '2912'},\n",
       "  {'name': '中国银行(香港)香港国际机场分行柜员机',\n",
       "   'location': {'lat': 22.319319, 'lng': 113.946394},\n",
       "   'uid': '808042327f7aa865f7c59c69',\n",
       "   'province': '香港',\n",
       "   'city': '香港',\n",
       "   'district': '离岛区',\n",
       "   'business': '',\n",
       "   'cityid': '2912'}]}"
      ]
     },
     "execution_count": 14,
     "metadata": {},
     "output_type": "execute_result"
    }
   ],
   "source": [
    "json.loads(c)"
   ]
  },
  {
   "cell_type": "code",
   "execution_count": 15,
   "metadata": {},
   "outputs": [
    {
     "data": {
      "text/plain": [
       "{'lat': 22.320181, 'lng': 113.945058}"
      ]
     },
     "execution_count": 15,
     "metadata": {},
     "output_type": "execute_result"
    }
   ],
   "source": [
    "def getFristCoord(content):\n",
    "    result = json.loads(content)\n",
    "    return result[\"result\"][0][\"location\"]\n",
    "\n",
    "getFristCoord(c)"
   ]
  },
  {
   "cell_type": "code",
   "execution_count": null,
   "metadata": {},
   "outputs": [],
   "source": []
  }
 ],
 "metadata": {
  "kernelspec": {
   "display_name": "Python 3",
   "language": "python",
   "name": "python3"
  },
  "language_info": {
   "codemirror_mode": {
    "name": "ipython",
    "version": 3
   },
   "file_extension": ".py",
   "mimetype": "text/x-python",
   "name": "python",
   "nbconvert_exporter": "python",
   "pygments_lexer": "ipython3",
   "version": "3.6.5"
  }
 },
 "nbformat": 4,
 "nbformat_minor": 2
}
